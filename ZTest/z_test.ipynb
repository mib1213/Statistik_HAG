{
 "cells": [
  {
   "cell_type": "markdown",
   "metadata": {},
   "source": [
    "## Z Test\n",
    "\n",
    "In einem Stichproben Fall, um den Mittelwert einer Stichprobe mit dem Erwartungswert ihrer Population zu vergleichen, können wir den Z-Test verwenden, wenn die folgenden Voraussetzungen erfüllt sind:\n",
    "\n",
    "### Voraussetzungen:\n",
    "\n",
    "- der **Varianz** **$(\\sigma^2)$** der Population muss bekannt sein\n",
    "- entweder muss die Population **normalverteilt** sein oder die Stichprobengröße muss **groß genug** sein (i.d.R: $n \\geq 30$) aufgrund des zentralen Grenzwertstheorems\n",
    "- die Stichprobe muss eine **unabhängige** Zufallsstichprobe sein\n",
    "- die untersuchten Daten müssen **stetig** (metrisch) skaliert sein\n",
    "\n",
    "### Hypothesen:\n",
    "\n",
    "#### Einseitig:\n",
    "$$H_0: \\mu = \\mu_0 \\Rightarrow H_1: \\mu \\neq \\mu_0$$\n",
    "\n",
    "#### Zweiseitig:\n",
    "$$H_0: \\mu \\geq \\mu_0 \\Rightarrow H_1: \\mu < \\mu_0$$\n",
    "$$\\vee$$\n",
    "$$H_0: \\mu \\leq \\mu_0 \\Rightarrow H_1: \\mu > \\mu_0$$\n",
    "wobei, $\\mu$ ist der Erwartungswert der Stichprobe und $\\mu_0$ ist der Erwartungswert der Population (hypothetischer Mittelwert).\n",
    "\n",
    "Man will also prüfen, ob $\\mu$ signifikant von $\\mu_0$ abweicht.\n",
    "\n",
    "### Teststatistik:\n",
    "\n",
    "$$ Z = \\frac{\\bar{X} - \\mu_0}{\\sigma_{\\bar{X}}}$$\n",
    "$$\\therefore \\sigma_{\\bar{X}} = \\sqrt{\\frac{\\sigma^2}{n}}$$\n",
    "$$\\Rightarrow \\boxed{Z = \\frac{\\bar{X} - \\mu_0}{\\sigma}\\sqrt{n}}$$\n",
    "wobei,\n",
    "\n",
    "$\\bar{X}$ - Stichprobenmittelwert\n",
    "\n",
    "$\\mu_0$ - Erwartungswert der Population\n",
    "\n",
    "$\\sigma$ - Populationsstandardabweichung\n",
    "\n",
    "$n$ - Stichprobengröße\n",
    "\n",
    "$\\sigma_{\\bar{X}}$ - Standardschätzfehler des Mittelwerts\n",
    "\n",
    "### Kritischer Wert:\n",
    "\n",
    "$$Z_{krit} = \\left| Z_{(1 - \\frac{\\alpha}{2})} \\right| \\quad \\text{für zweiseitigen Test}$$\n",
    "$$Z_{krit} = Z_{(1 - \\alpha)} \\quad \\text{für einseitigen Test}$$\n",
    "\n",
    "wobei, \n",
    "\n",
    "$Z_{krit}$: kritischer Z-Wert\n",
    "\n",
    "$\\alpha$: Signifikanzniveau\n",
    "\n",
    "### Ergebnis:\n",
    "\n",
    "$$\\text{Falls:} \\quad |Z| > |Z_{krit}| \\quad \\Rightarrow \\text{lehne} \\, H_0 \\, \\text{ab} \\quad \\Rightarrow \\text{nehme} \\, H_1 \\, \\text{an}$$"
   ]
  }
 ],
 "metadata": {
  "kernelspec": {
   "display_name": "env",
   "language": "python",
   "name": "python3"
  },
  "language_info": {
   "codemirror_mode": {
    "name": "ipython",
    "version": 3
   },
   "file_extension": ".py",
   "mimetype": "text/x-python",
   "name": "python",
   "nbconvert_exporter": "python",
   "pygments_lexer": "ipython3",
   "version": "3.12.7"
  }
 },
 "nbformat": 4,
 "nbformat_minor": 2
}
